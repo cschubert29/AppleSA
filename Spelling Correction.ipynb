{
 "cells": [
  {
   "cell_type": "code",
   "execution_count": null,
   "metadata": {},
   "outputs": [],
   "source": [
    "'''\n",
    "Florida International Univeristy - Data Science MS\n",
    "CAP 5640 - NLP - Spring 2019\n",
    "Andrea Garcia and Constanza Schubert\n",
    "\n",
    "File to perform naive spelling correction on certain terms from the tokenized tweets.\n",
    "\n",
    "'''"
   ]
  },
  {
   "cell_type": "code",
   "execution_count": 213,
   "metadata": {},
   "outputs": [],
   "source": [
    "#imports\n",
    "import pandas as pd\n",
    "from ast import literal_eval\n",
    "\n",
    "from spellchecker import SpellChecker\n",
    "from symspellpy.symspellpy import SymSpell, Verbosity\n",
    "\n",
    "import requests\n",
    "import json\n",
    "import re"
   ]
  },
  {
   "cell_type": "code",
   "execution_count": 134,
   "metadata": {},
   "outputs": [],
   "source": [
    "#Import the data\n",
    "apple_df=pd.read_csv('.\\\\Data\\\\apple_tokenized.csv', usecols=['text','Hashtags', 'pos_tags','tweet_no_stop'])\n",
    "\n",
    "# Convert entire column to a list\n",
    "#apple_df.loc[:,'tokenized_tweets'] = apple_df.loc[:,'tokenized_tweets'].apply(lambda x: literal_eval(x))\n",
    "apple_df.loc[:,'pos_tags'] = apple_df.loc[:,'pos_tags'].apply(lambda x: literal_eval(x))\n",
    "apple_df.loc[:,'tweet_no_stop'] = apple_df.loc[:,'tweet_no_stop'].apply(lambda x: literal_eval(x))\n",
    "apple_df.loc[:,'Hashtags'] = apple_df.loc[:,'Hashtags'].apply(lambda x: literal_eval(x))"
   ]
  },
  {
   "cell_type": "code",
   "execution_count": 135,
   "metadata": {},
   "outputs": [
    {
     "data": {
      "text/html": [
       "<div>\n",
       "<style scoped>\n",
       "    .dataframe tbody tr th:only-of-type {\n",
       "        vertical-align: middle;\n",
       "    }\n",
       "\n",
       "    .dataframe tbody tr th {\n",
       "        vertical-align: top;\n",
       "    }\n",
       "\n",
       "    .dataframe thead th {\n",
       "        text-align: right;\n",
       "    }\n",
       "</style>\n",
       "<table border=\"1\" class=\"dataframe\">\n",
       "  <thead>\n",
       "    <tr style=\"text-align: right;\">\n",
       "      <th></th>\n",
       "      <th>text</th>\n",
       "      <th>Hashtags</th>\n",
       "      <th>pos_tags</th>\n",
       "      <th>tweet_no_stop</th>\n",
       "    </tr>\n",
       "  </thead>\n",
       "  <tbody>\n",
       "    <tr>\n",
       "      <th>0</th>\n",
       "      <td>Ok guys its time for Dimonds available now in ...</td>\n",
       "      <td>[cydia, theme, ios, jailbreak, anemone, iPhone...</td>\n",
       "      <td>[(Ok, NNP), (guys, VBZ), (its, PRP$), (time, N...</td>\n",
       "      <td>[ok, guys, time, dimonds, available, repo, cyd...</td>\n",
       "    </tr>\n",
       "    <tr>\n",
       "      <th>1</th>\n",
       "      <td>It makes me chuckle when articles claim that t...</td>\n",
       "      <td>[]</td>\n",
       "      <td>[(It, PRP), (makes, VBZ), (me, PRP), (chuckle,...</td>\n",
       "      <td>[makes, chuckle, articles, claim, versa, compe...</td>\n",
       "    </tr>\n",
       "    <tr>\n",
       "      <th>2</th>\n",
       "      <td>This was pretty cool! Thank you Apple for havi...</td>\n",
       "      <td>[todayatapple]</td>\n",
       "      <td>[(This, DT), (was, VBD), (pretty, RB), (cool, ...</td>\n",
       "      <td>[pretty, cool, thank, thank, everyone, came, m...</td>\n",
       "    </tr>\n",
       "    <tr>\n",
       "      <th>3</th>\n",
       "      <td>Bulletinatomic Potus Davos Wef Energy Yearsofl...</td>\n",
       "      <td>[HSS, LRAD]</td>\n",
       "      <td>[(HSS, NNP), (LRAD, NNP), (PGA, NNP), (Dairy, ...</td>\n",
       "      <td>[hss, lrad, pga, dairy, us, eu, money, game, b...</td>\n",
       "    </tr>\n",
       "    <tr>\n",
       "      <th>4</th>\n",
       "      <td>I m pretty sure I just discovered that Familyg...</td>\n",
       "      <td>[FamilyGuy, Apple, ApplePencil]</td>\n",
       "      <td>[(I, PRP), (m, VBP), (pretty, JJ), (sure, JJ),...</td>\n",
       "      <td>[pretty, sure, discovered, predicted, apple, p...</td>\n",
       "    </tr>\n",
       "  </tbody>\n",
       "</table>\n",
       "</div>"
      ],
      "text/plain": [
       "                                                text  \\\n",
       "0  Ok guys its time for Dimonds available now in ...   \n",
       "1  It makes me chuckle when articles claim that t...   \n",
       "2  This was pretty cool! Thank you Apple for havi...   \n",
       "3  Bulletinatomic Potus Davos Wef Energy Yearsofl...   \n",
       "4  I m pretty sure I just discovered that Familyg...   \n",
       "\n",
       "                                            Hashtags  \\\n",
       "0  [cydia, theme, ios, jailbreak, anemone, iPhone...   \n",
       "1                                                 []   \n",
       "2                                     [todayatapple]   \n",
       "3                                        [HSS, LRAD]   \n",
       "4                    [FamilyGuy, Apple, ApplePencil]   \n",
       "\n",
       "                                            pos_tags  \\\n",
       "0  [(Ok, NNP), (guys, VBZ), (its, PRP$), (time, N...   \n",
       "1  [(It, PRP), (makes, VBZ), (me, PRP), (chuckle,...   \n",
       "2  [(This, DT), (was, VBD), (pretty, RB), (cool, ...   \n",
       "3  [(HSS, NNP), (LRAD, NNP), (PGA, NNP), (Dairy, ...   \n",
       "4  [(I, PRP), (m, VBP), (pretty, JJ), (sure, JJ),...   \n",
       "\n",
       "                                       tweet_no_stop  \n",
       "0  [ok, guys, time, dimonds, available, repo, cyd...  \n",
       "1  [makes, chuckle, articles, claim, versa, compe...  \n",
       "2  [pretty, cool, thank, thank, everyone, came, m...  \n",
       "3  [hss, lrad, pga, dairy, us, eu, money, game, b...  \n",
       "4  [pretty, sure, discovered, predicted, apple, p...  "
      ]
     },
     "execution_count": 135,
     "metadata": {},
     "output_type": "execute_result"
    }
   ],
   "source": [
    "apple_df.head()"
   ]
  },
  {
   "cell_type": "markdown",
   "metadata": {},
   "source": [
    "## Reduce number of words to check spelling of"
   ]
  },
  {
   "cell_type": "code",
   "execution_count": 136,
   "metadata": {},
   "outputs": [],
   "source": [
    "#Excluding: Twitter handles, hashtags\n",
    "#capitalized words, NNP\n",
    "\n",
    "#remove pronouns, conjunctions, prepositions, determiners, etc\n",
    "#only keep nouns, verbs, adjectives, adverbs\n"
   ]
  },
  {
   "cell_type": "code",
   "execution_count": 137,
   "metadata": {},
   "outputs": [],
   "source": [
    "#Finalize list of words to check for spelling\n",
    "\n",
    "def word_list(df):\n",
    "    \n",
    "    #Additional list of terms I do not want to be flagged\n",
    "\n",
    "    #All terms excluding hashtags\n",
    "    all_terms = df.apply(lambda row: list(set(row['tweet_no_stop'])-set(row['Hashtags'])),axis=1)\n",
    "    \n",
    "    #Keep only nouns, verbs, adjectives, and adverbs\n",
    "    #JJ, JJR, JJS, NN, NNS, RB, RBR, RBS, VB, VBD, VBG, VBN, VBP, VBZ\n",
    "    keep={'JJ','JJR','JJS','NN','NNS', 'RB', 'RBR', 'RBS', 'VB','VBD','VBG','VBN','VBP','VBZ'}\n",
    "    check_words=df['pos_tags'].apply(lambda x: [item[0] for item in x if item[1] in keep ])\n",
    "    #Intersection between all_terms and check_words\n",
    "    d = pd.DataFrame({'all terms':all_terms,'check words':check_words})\n",
    "    final_words = d.apply(lambda row: list(set(row['all terms']).intersection(set(row['check words']))),axis=1 )\n",
    "    df['check words']=final_words\n",
    "    return df"
   ]
  },
  {
   "cell_type": "code",
   "execution_count": 138,
   "metadata": {},
   "outputs": [],
   "source": [
    "apple_df = word_list(apple_df)"
   ]
  },
  {
   "cell_type": "code",
   "execution_count": 139,
   "metadata": {},
   "outputs": [
    {
     "data": {
      "text/html": [
       "<div>\n",
       "<style scoped>\n",
       "    .dataframe tbody tr th:only-of-type {\n",
       "        vertical-align: middle;\n",
       "    }\n",
       "\n",
       "    .dataframe tbody tr th {\n",
       "        vertical-align: top;\n",
       "    }\n",
       "\n",
       "    .dataframe thead th {\n",
       "        text-align: right;\n",
       "    }\n",
       "</style>\n",
       "<table border=\"1\" class=\"dataframe\">\n",
       "  <thead>\n",
       "    <tr style=\"text-align: right;\">\n",
       "      <th></th>\n",
       "      <th>text</th>\n",
       "      <th>Hashtags</th>\n",
       "      <th>pos_tags</th>\n",
       "      <th>tweet_no_stop</th>\n",
       "      <th>check words</th>\n",
       "    </tr>\n",
       "  </thead>\n",
       "  <tbody>\n",
       "    <tr>\n",
       "      <th>0</th>\n",
       "      <td>Ok guys its time for Dimonds available now in ...</td>\n",
       "      <td>[cydia, theme, ios, jailbreak, anemone, iPhone...</td>\n",
       "      <td>[(Ok, NNP), (guys, VBZ), (its, PRP$), (time, N...</td>\n",
       "      <td>[ok, guys, time, dimonds, available, repo, cyd...</td>\n",
       "      <td>[guys, time, repo, available]</td>\n",
       "    </tr>\n",
       "    <tr>\n",
       "      <th>1</th>\n",
       "      <td>It makes me chuckle when articles claim that t...</td>\n",
       "      <td>[]</td>\n",
       "      <td>[(It, PRP), (makes, VBZ), (me, PRP), (chuckle,...</td>\n",
       "      <td>[makes, chuckle, articles, claim, versa, compe...</td>\n",
       "      <td>[compete, years, chuckle, articles, makes, ver...</td>\n",
       "    </tr>\n",
       "    <tr>\n",
       "      <th>2</th>\n",
       "      <td>This was pretty cool! Thank you Apple for havi...</td>\n",
       "      <td>[todayatapple]</td>\n",
       "      <td>[(This, DT), (was, VBD), (pretty, RB), (cool, ...</td>\n",
       "      <td>[pretty, cool, thank, thank, everyone, came, m...</td>\n",
       "      <td>[came, production, everyone, songwriting, much...</td>\n",
       "    </tr>\n",
       "    <tr>\n",
       "      <th>3</th>\n",
       "      <td>Bulletinatomic Potus Davos Wef Energy Yearsofl...</td>\n",
       "      <td>[HSS, LRAD]</td>\n",
       "      <td>[(HSS, NNP), (LRAD, NNP), (PGA, NNP), (Dairy, ...</td>\n",
       "      <td>[hss, lrad, pga, dairy, us, eu, money, game, b...</td>\n",
       "      <td>[bankrupt, game, filtering, take]</td>\n",
       "    </tr>\n",
       "    <tr>\n",
       "      <th>4</th>\n",
       "      <td>I m pretty sure I just discovered that Familyg...</td>\n",
       "      <td>[FamilyGuy, Apple, ApplePencil]</td>\n",
       "      <td>[(I, PRP), (m, VBP), (pretty, JJ), (sure, JJ),...</td>\n",
       "      <td>[pretty, sure, discovered, predicted, apple, p...</td>\n",
       "      <td>[discovered, sure, predicted, pretty]</td>\n",
       "    </tr>\n",
       "  </tbody>\n",
       "</table>\n",
       "</div>"
      ],
      "text/plain": [
       "                                                text  \\\n",
       "0  Ok guys its time for Dimonds available now in ...   \n",
       "1  It makes me chuckle when articles claim that t...   \n",
       "2  This was pretty cool! Thank you Apple for havi...   \n",
       "3  Bulletinatomic Potus Davos Wef Energy Yearsofl...   \n",
       "4  I m pretty sure I just discovered that Familyg...   \n",
       "\n",
       "                                            Hashtags  \\\n",
       "0  [cydia, theme, ios, jailbreak, anemone, iPhone...   \n",
       "1                                                 []   \n",
       "2                                     [todayatapple]   \n",
       "3                                        [HSS, LRAD]   \n",
       "4                    [FamilyGuy, Apple, ApplePencil]   \n",
       "\n",
       "                                            pos_tags  \\\n",
       "0  [(Ok, NNP), (guys, VBZ), (its, PRP$), (time, N...   \n",
       "1  [(It, PRP), (makes, VBZ), (me, PRP), (chuckle,...   \n",
       "2  [(This, DT), (was, VBD), (pretty, RB), (cool, ...   \n",
       "3  [(HSS, NNP), (LRAD, NNP), (PGA, NNP), (Dairy, ...   \n",
       "4  [(I, PRP), (m, VBP), (pretty, JJ), (sure, JJ),...   \n",
       "\n",
       "                                       tweet_no_stop  \\\n",
       "0  [ok, guys, time, dimonds, available, repo, cyd...   \n",
       "1  [makes, chuckle, articles, claim, versa, compe...   \n",
       "2  [pretty, cool, thank, thank, everyone, came, m...   \n",
       "3  [hss, lrad, pga, dairy, us, eu, money, game, b...   \n",
       "4  [pretty, sure, discovered, predicted, apple, p...   \n",
       "\n",
       "                                         check words  \n",
       "0                      [guys, time, repo, available]  \n",
       "1  [compete, years, chuckle, articles, makes, ver...  \n",
       "2  [came, production, everyone, songwriting, much...  \n",
       "3                  [bankrupt, game, filtering, take]  \n",
       "4              [discovered, sure, predicted, pretty]  "
      ]
     },
     "execution_count": 139,
     "metadata": {},
     "output_type": "execute_result"
    }
   ],
   "source": [
    "apple_df.head()"
   ]
  },
  {
   "cell_type": "code",
   "execution_count": 140,
   "metadata": {},
   "outputs": [],
   "source": [
    "#sample data for testing\n",
    "df=apple_df[0:10]"
   ]
  },
  {
   "cell_type": "markdown",
   "metadata": {},
   "source": [
    "# Spell Checker approaches\n",
    "***"
   ]
  },
  {
   "cell_type": "markdown",
   "metadata": {},
   "source": [
    "## Norvig approach - pyspellchecker"
   ]
  },
  {
   "cell_type": "code",
   "execution_count": 218,
   "metadata": {},
   "outputs": [],
   "source": [
    "def norvig_spell(text):\n",
    "    #spellcheck tokenized text including stop words\n",
    "    spell = SpellChecker()\n",
    "    misspelled = spell.unknown(text)\n",
    "    candidate_corrections = []\n",
    "    for word in misspelled:\n",
    "        candidate_corrections.append({word:list(spell.candidates(word))})\n",
    "        #candidate_corrections.append(spell.candidates(word))\n",
    "    return candidate_corrections"
   ]
  },
  {
   "cell_type": "markdown",
   "metadata": {},
   "source": [
    "Test on small sample"
   ]
  },
  {
   "cell_type": "code",
   "execution_count": 220,
   "metadata": {},
   "outputs": [
    {
     "name": "stdout",
     "output_type": "stream",
     "text": [
      "Wall time: 2.98 s\n"
     ]
    },
    {
     "data": {
      "text/plain": [
       "0    []\n",
       "1    []\n",
       "2    []\n",
       "3    []\n",
       "4    []\n",
       "5    []\n",
       "6    []\n",
       "7    []\n",
       "8    []\n",
       "9    []\n",
       "Name: check words, dtype: object"
      ]
     },
     "execution_count": 220,
     "metadata": {},
     "output_type": "execute_result"
    }
   ],
   "source": [
    "%%time\n",
    "df['check words'].apply(norvig_spell)"
   ]
  },
  {
   "cell_type": "code",
   "execution_count": null,
   "metadata": {},
   "outputs": [
    {
     "name": "stdout",
     "output_type": "stream",
     "text": [
      "Wall time: 0 ns\n"
     ]
    }
   ],
   "source": [
    "# %time\n",
    "# #apply norvig spellchecker\n",
    "# #takes about an hour\n",
    "# apple_df['check words'].apply(norvig_spell)"
   ]
  },
  {
   "cell_type": "markdown",
   "metadata": {},
   "source": [
    "## Symspell"
   ]
  },
  {
   "cell_type": "code",
   "execution_count": 214,
   "metadata": {},
   "outputs": [],
   "source": [
    "def sym_spellcheck(input_term):\n",
    "    # maximum edit distance per dictionary precalculation\n",
    "    max_edit_distance_dictionary = 2\n",
    "    prefix_length = 7\n",
    "    # create object\n",
    "    sym_spell = SymSpell(max_edit_distance_dictionary, prefix_length)\n",
    "    # load dictionary\n",
    "    dictionary_path = '.\\\\Data\\\\frequency_dictionary_en_82_765.txt'\n",
    "                                   \n",
    "    term_index = 0  # column of the term in the dictionary text file\n",
    "    count_index = 1  # column of the term frequency in the dictionary text file\n",
    "\n",
    "    if not sym_spell.load_dictionary(dictionary_path, term_index, count_index):\n",
    "        print(\"Dictionary file not found\")\n",
    "        return\n",
    "    # lookup suggestions for single-word input strings\n",
    "    #input_term = \"memebers\"  # misspelling of \"members\"\n",
    "    # max edit distance per lookup\n",
    "    # (max_edit_distance_lookup <= max_edit_distance_dictionary)\n",
    "    max_edit_distance_lookup = 2\n",
    "    suggestion_verbosity = Verbosity.CLOSEST  # TOP, CLOSEST, ALL\n",
    "    suggestions = sym_spell.lookup(input_term, suggestion_verbosity,\n",
    "                                   max_edit_distance_lookup)\n",
    "    # display suggestion term, term frequency, and edit distance\n",
    "    result = []\n",
    "    for suggestion in suggestions:\n",
    "        result.append(suggestion.term)\n",
    "#         result.append(suggestion.distance)\n",
    "#         result.append(suggestion.count)\n",
    "        \n",
    "            \n",
    "    \n",
    "    return result\n"
   ]
  },
  {
   "cell_type": "code",
   "execution_count": 221,
   "metadata": {},
   "outputs": [
    {
     "name": "stdout",
     "output_type": "stream",
     "text": [
      "Wall time: 7.76 s\n"
     ]
    },
    {
     "data": {
      "text/plain": [
       "['members']"
      ]
     },
     "execution_count": 221,
     "metadata": {},
     "output_type": "execute_result"
    }
   ],
   "source": [
    "%%time\n",
    "sym_spellcheck(\"members\")"
   ]
  },
  {
   "cell_type": "markdown",
   "metadata": {},
   "source": [
    "Test on small sample"
   ]
  },
  {
   "cell_type": "code",
   "execution_count": 216,
   "metadata": {},
   "outputs": [
    {
     "name": "stdout",
     "output_type": "stream",
     "text": [
      "Wall time: 4min 47s\n"
     ]
    },
    {
     "data": {
      "text/plain": [
       "0    [[guys], [time], [rep, reno, reps, redo, repro...\n",
       "1    [[compete], [years], [chuckle], [articles], [m...\n",
       "2    [[came], [production], [everyone], [songwritin...\n",
       "3            [[bankrupt], [game], [filtering], [take]]\n",
       "4        [[discovered], [sure], [predicted], [pretty]]\n",
       "5                                           [[louder]]\n",
       "6                                                   []\n",
       "7    [[husband], [access], [photos], [rules], [man]...\n",
       "8                                           [[louder]]\n",
       "9                                                   []\n",
       "Name: check words, dtype: object"
      ]
     },
     "execution_count": 216,
     "metadata": {},
     "output_type": "execute_result"
    }
   ],
   "source": [
    "%%time\n",
    "df['check words'].apply(lambda x: [sym_spellcheck(y) for y in x])"
   ]
  },
  {
   "cell_type": "markdown",
   "metadata": {},
   "source": [
    "## Bing Spell Check API\n",
    "***"
   ]
  },
  {
   "cell_type": "code",
   "execution_count": 209,
   "metadata": {},
   "outputs": [],
   "source": [
    "def bing_spell(wl):\n",
    "    api_key = \"052dae11302b42e58ad8ddb3b72af085\"\n",
    "    endpoint = \"https://api.cognitive.microsoft.com/bing/v7.0/SpellCheck\"\n",
    "    \n",
    "    params = {\n",
    "    'mkt':'en-us',\n",
    "    'mode':'proof'\n",
    "    }\n",
    "    headers = {\n",
    "    'Content-Type': 'application/x-www-form-urlencoded',\n",
    "    'Ocp-Apim-Subscription-Key': api_key,\n",
    "    }\n",
    "    \n",
    "    #If text_str is empty - SKIP ALL THIS\n",
    "    r = {}\n",
    "    if not []:\n",
    "        return r\n",
    "\n",
    "    else:\n",
    "        text_str = ' '.join(wl) #text to be spell checked\n",
    "        data = {'text': text_str}\n",
    "\n",
    "        response = requests.post(endpoint, headers=headers, params=params, data=data)\n",
    "        json_response = response.json()\n",
    "        \n",
    "        #output\n",
    "       \n",
    "        for i in json_response['flaggedTokens']:\n",
    "        #get most suggestion with highest score\n",
    "            r[i['token']] = i['suggestions'][0]['suggestion']\n",
    "    \n",
    "    return r"
   ]
  },
  {
   "cell_type": "code",
   "execution_count": 210,
   "metadata": {},
   "outputs": [],
   "source": [
    "# Implement suggested word changes\n",
    "\n",
    "def correct_text(suggestions,text):\n",
    "    #suggestions is a dictionary in the form of {\"condition1\": \"\", \"condition2\": \"text\"}\n",
    "    corrected_text = text\n",
    "    #replacement into text string\n",
    "    if not {}:\n",
    "        return corrected_text\n",
    "    \n",
    "    else:\n",
    "        pattern = re.compile(\"|\".join(suggestions.keys()))\n",
    "        corrected_text = pattern.sub(lambda m: suggestions[re.escape(m.group(0))], text)\n",
    "        \n",
    "    return corrected_text"
   ]
  },
  {
   "cell_type": "markdown",
   "metadata": {},
   "source": [
    "Test on small sample"
   ]
  },
  {
   "cell_type": "code",
   "execution_count": 211,
   "metadata": {},
   "outputs": [
    {
     "name": "stderr",
     "output_type": "stream",
     "text": [
      "C:\\Users\\cschu\\Anaconda3\\lib\\site-packages\\ipykernel_launcher.py:2: SettingWithCopyWarning: \n",
      "A value is trying to be set on a copy of a slice from a DataFrame.\n",
      "Try using .loc[row_indexer,col_indexer] = value instead\n",
      "\n",
      "See the caveats in the documentation: http://pandas.pydata.org/pandas-docs/stable/indexing.html#indexing-view-versus-copy\n",
      "  \n",
      "C:\\Users\\cschu\\Anaconda3\\lib\\site-packages\\ipykernel_launcher.py:4: SettingWithCopyWarning: \n",
      "A value is trying to be set on a copy of a slice from a DataFrame.\n",
      "Try using .loc[row_indexer,col_indexer] = value instead\n",
      "\n",
      "See the caveats in the documentation: http://pandas.pydata.org/pandas-docs/stable/indexing.html#indexing-view-versus-copy\n",
      "  after removing the cwd from sys.path.\n"
     ]
    }
   ],
   "source": [
    "#Implement BING Spell Checker API\n",
    "df['Bing suggestions'] = df['check words'].apply(lambda x: bing_spell(x))\n",
    "#Get corrected text\n",
    "df['Spell-checked text'] = df.apply(lambda row: correct_text(row['Bing suggestions'],row['text']),axis=1)"
   ]
  },
  {
   "cell_type": "code",
   "execution_count": 212,
   "metadata": {},
   "outputs": [
    {
     "data": {
      "text/html": [
       "<div>\n",
       "<style scoped>\n",
       "    .dataframe tbody tr th:only-of-type {\n",
       "        vertical-align: middle;\n",
       "    }\n",
       "\n",
       "    .dataframe tbody tr th {\n",
       "        vertical-align: top;\n",
       "    }\n",
       "\n",
       "    .dataframe thead th {\n",
       "        text-align: right;\n",
       "    }\n",
       "</style>\n",
       "<table border=\"1\" class=\"dataframe\">\n",
       "  <thead>\n",
       "    <tr style=\"text-align: right;\">\n",
       "      <th></th>\n",
       "      <th>text</th>\n",
       "      <th>Hashtags</th>\n",
       "      <th>pos_tags</th>\n",
       "      <th>tweet_no_stop</th>\n",
       "      <th>check words</th>\n",
       "      <th>Bing suggestions</th>\n",
       "      <th>Spell-checked text</th>\n",
       "    </tr>\n",
       "  </thead>\n",
       "  <tbody>\n",
       "    <tr>\n",
       "      <th>0</th>\n",
       "      <td>Ok guys its time for Dimonds available now in ...</td>\n",
       "      <td>[cydia, theme, ios, jailbreak, anemone, iPhone...</td>\n",
       "      <td>[(Ok, NNP), (guys, VBZ), (its, PRP$), (time, N...</td>\n",
       "      <td>[ok, guys, time, dimonds, available, repo, cyd...</td>\n",
       "      <td>[guys, time, repo, available]</td>\n",
       "      <td>{}</td>\n",
       "      <td>Ok guys its time for Dimonds available now in ...</td>\n",
       "    </tr>\n",
       "    <tr>\n",
       "      <th>1</th>\n",
       "      <td>It makes me chuckle when articles claim that t...</td>\n",
       "      <td>[]</td>\n",
       "      <td>[(It, PRP), (makes, VBZ), (me, PRP), (chuckle,...</td>\n",
       "      <td>[makes, chuckle, articles, claim, versa, compe...</td>\n",
       "      <td>[compete, years, chuckle, articles, makes, ver...</td>\n",
       "      <td>{}</td>\n",
       "      <td>It makes me chuckle when articles claim that t...</td>\n",
       "    </tr>\n",
       "    <tr>\n",
       "      <th>2</th>\n",
       "      <td>This was pretty cool! Thank you Apple for havi...</td>\n",
       "      <td>[todayatapple]</td>\n",
       "      <td>[(This, DT), (was, VBD), (pretty, RB), (cool, ...</td>\n",
       "      <td>[pretty, cool, thank, thank, everyone, came, m...</td>\n",
       "      <td>[came, production, everyone, songwriting, much...</td>\n",
       "      <td>{}</td>\n",
       "      <td>This was pretty cool! Thank you Apple for havi...</td>\n",
       "    </tr>\n",
       "    <tr>\n",
       "      <th>3</th>\n",
       "      <td>Bulletinatomic Potus Davos Wef Energy Yearsofl...</td>\n",
       "      <td>[HSS, LRAD]</td>\n",
       "      <td>[(HSS, NNP), (LRAD, NNP), (PGA, NNP), (Dairy, ...</td>\n",
       "      <td>[hss, lrad, pga, dairy, us, eu, money, game, b...</td>\n",
       "      <td>[bankrupt, game, filtering, take]</td>\n",
       "      <td>{}</td>\n",
       "      <td>Bulletinatomic Potus Davos Wef Energy Yearsofl...</td>\n",
       "    </tr>\n",
       "    <tr>\n",
       "      <th>4</th>\n",
       "      <td>I m pretty sure I just discovered that Familyg...</td>\n",
       "      <td>[FamilyGuy, Apple, ApplePencil]</td>\n",
       "      <td>[(I, PRP), (m, VBP), (pretty, JJ), (sure, JJ),...</td>\n",
       "      <td>[pretty, sure, discovered, predicted, apple, p...</td>\n",
       "      <td>[discovered, sure, predicted, pretty]</td>\n",
       "      <td>{}</td>\n",
       "      <td>I m pretty sure I just discovered that Familyg...</td>\n",
       "    </tr>\n",
       "    <tr>\n",
       "      <th>5</th>\n",
       "      <td>louder: OH MY GOD THE GOVERNMENT's  SETTLED ST...</td>\n",
       "      <td>[]</td>\n",
       "      <td>[(louder, NN), (OH, NNP), (MY, NNP), (GOD, NNP...</td>\n",
       "      <td>[louder, god, government, settled, status, dig...</td>\n",
       "      <td>[louder]</td>\n",
       "      <td>{}</td>\n",
       "      <td>louder: OH MY GOD THE GOVERNMENT's  SETTLED ST...</td>\n",
       "    </tr>\n",
       "    <tr>\n",
       "      <th>6</th>\n",
       "      <td>Commissioned by Apple  A Great Day In Accra Se...</td>\n",
       "      <td>[ShotOniPhone, Ghana, Music, Africa, Hiplife, ...</td>\n",
       "      <td>[(Commissioned, VBN), (by, IN), (A, DT), (Grea...</td>\n",
       "      <td>[commissioned, great, day, accra, series, shot...</td>\n",
       "      <td>[]</td>\n",
       "      <td>{}</td>\n",
       "      <td>Commissioned by Apple  A Great Day In Accra Se...</td>\n",
       "    </tr>\n",
       "    <tr>\n",
       "      <th>7</th>\n",
       "      <td>Court rules man must be given access to husban...</td>\n",
       "      <td>[apple]</td>\n",
       "      <td>[(Court, NNP), (rules, NNS), (man, NN), (must,...</td>\n",
       "      <td>[court, rules, man, must, given, access, husba...</td>\n",
       "      <td>[husband, access, photos, rules, man, given]</td>\n",
       "      <td>{}</td>\n",
       "      <td>Court rules man must be given access to husban...</td>\n",
       "    </tr>\n",
       "    <tr>\n",
       "      <th>8</th>\n",
       "      <td>louder: OH MY GOD THE GOVERNMENT's  SETTLED ST...</td>\n",
       "      <td>[]</td>\n",
       "      <td>[(louder, NN), (OH, NNP), (MY, NNP), (GOD, NNP...</td>\n",
       "      <td>[louder, god, government, settled, status, dig...</td>\n",
       "      <td>[louder]</td>\n",
       "      <td>{}</td>\n",
       "      <td>louder: OH MY GOD THE GOVERNMENT's  SETTLED ST...</td>\n",
       "    </tr>\n",
       "    <tr>\n",
       "      <th>9</th>\n",
       "      <td>Commissioned by Apple  A Great Day In Accra Se...</td>\n",
       "      <td>[ShotOniPhone, Ghana, Music, Africa, Hiplife, ...</td>\n",
       "      <td>[(Commissioned, VBN), (by, IN), (A, DT), (Grea...</td>\n",
       "      <td>[commissioned, great, day, accra, series, shot...</td>\n",
       "      <td>[]</td>\n",
       "      <td>{}</td>\n",
       "      <td>Commissioned by Apple  A Great Day In Accra Se...</td>\n",
       "    </tr>\n",
       "  </tbody>\n",
       "</table>\n",
       "</div>"
      ],
      "text/plain": [
       "                                                text  \\\n",
       "0  Ok guys its time for Dimonds available now in ...   \n",
       "1  It makes me chuckle when articles claim that t...   \n",
       "2  This was pretty cool! Thank you Apple for havi...   \n",
       "3  Bulletinatomic Potus Davos Wef Energy Yearsofl...   \n",
       "4  I m pretty sure I just discovered that Familyg...   \n",
       "5  louder: OH MY GOD THE GOVERNMENT's  SETTLED ST...   \n",
       "6  Commissioned by Apple  A Great Day In Accra Se...   \n",
       "7  Court rules man must be given access to husban...   \n",
       "8  louder: OH MY GOD THE GOVERNMENT's  SETTLED ST...   \n",
       "9  Commissioned by Apple  A Great Day In Accra Se...   \n",
       "\n",
       "                                            Hashtags  \\\n",
       "0  [cydia, theme, ios, jailbreak, anemone, iPhone...   \n",
       "1                                                 []   \n",
       "2                                     [todayatapple]   \n",
       "3                                        [HSS, LRAD]   \n",
       "4                    [FamilyGuy, Apple, ApplePencil]   \n",
       "5                                                 []   \n",
       "6  [ShotOniPhone, Ghana, Music, Africa, Hiplife, ...   \n",
       "7                                            [apple]   \n",
       "8                                                 []   \n",
       "9  [ShotOniPhone, Ghana, Music, Africa, Hiplife, ...   \n",
       "\n",
       "                                            pos_tags  \\\n",
       "0  [(Ok, NNP), (guys, VBZ), (its, PRP$), (time, N...   \n",
       "1  [(It, PRP), (makes, VBZ), (me, PRP), (chuckle,...   \n",
       "2  [(This, DT), (was, VBD), (pretty, RB), (cool, ...   \n",
       "3  [(HSS, NNP), (LRAD, NNP), (PGA, NNP), (Dairy, ...   \n",
       "4  [(I, PRP), (m, VBP), (pretty, JJ), (sure, JJ),...   \n",
       "5  [(louder, NN), (OH, NNP), (MY, NNP), (GOD, NNP...   \n",
       "6  [(Commissioned, VBN), (by, IN), (A, DT), (Grea...   \n",
       "7  [(Court, NNP), (rules, NNS), (man, NN), (must,...   \n",
       "8  [(louder, NN), (OH, NNP), (MY, NNP), (GOD, NNP...   \n",
       "9  [(Commissioned, VBN), (by, IN), (A, DT), (Grea...   \n",
       "\n",
       "                                       tweet_no_stop  \\\n",
       "0  [ok, guys, time, dimonds, available, repo, cyd...   \n",
       "1  [makes, chuckle, articles, claim, versa, compe...   \n",
       "2  [pretty, cool, thank, thank, everyone, came, m...   \n",
       "3  [hss, lrad, pga, dairy, us, eu, money, game, b...   \n",
       "4  [pretty, sure, discovered, predicted, apple, p...   \n",
       "5  [louder, god, government, settled, status, dig...   \n",
       "6  [commissioned, great, day, accra, series, shot...   \n",
       "7  [court, rules, man, must, given, access, husba...   \n",
       "8  [louder, god, government, settled, status, dig...   \n",
       "9  [commissioned, great, day, accra, series, shot...   \n",
       "\n",
       "                                         check words Bing suggestions  \\\n",
       "0                      [guys, time, repo, available]               {}   \n",
       "1  [compete, years, chuckle, articles, makes, ver...               {}   \n",
       "2  [came, production, everyone, songwriting, much...               {}   \n",
       "3                  [bankrupt, game, filtering, take]               {}   \n",
       "4              [discovered, sure, predicted, pretty]               {}   \n",
       "5                                           [louder]               {}   \n",
       "6                                                 []               {}   \n",
       "7       [husband, access, photos, rules, man, given]               {}   \n",
       "8                                           [louder]               {}   \n",
       "9                                                 []               {}   \n",
       "\n",
       "                                  Spell-checked text  \n",
       "0  Ok guys its time for Dimonds available now in ...  \n",
       "1  It makes me chuckle when articles claim that t...  \n",
       "2  This was pretty cool! Thank you Apple for havi...  \n",
       "3  Bulletinatomic Potus Davos Wef Energy Yearsofl...  \n",
       "4  I m pretty sure I just discovered that Familyg...  \n",
       "5  louder: OH MY GOD THE GOVERNMENT's  SETTLED ST...  \n",
       "6  Commissioned by Apple  A Great Day In Accra Se...  \n",
       "7  Court rules man must be given access to husban...  \n",
       "8  louder: OH MY GOD THE GOVERNMENT's  SETTLED ST...  \n",
       "9  Commissioned by Apple  A Great Day In Accra Se...  "
      ]
     },
     "execution_count": 212,
     "metadata": {},
     "output_type": "execute_result"
    }
   ],
   "source": [
    "df"
   ]
  },
  {
   "cell_type": "code",
   "execution_count": null,
   "metadata": {},
   "outputs": [],
   "source": [
    "#TO-DO: use text - hashtags - twitter handles => feed to Bing\n",
    "#use tweet no handles text column instead for Bing API"
   ]
  },
  {
   "cell_type": "code",
   "execution_count": null,
   "metadata": {},
   "outputs": [],
   "source": []
  }
 ],
 "metadata": {
  "kernelspec": {
   "display_name": "Python 3",
   "language": "python",
   "name": "python3"
  },
  "language_info": {
   "codemirror_mode": {
    "name": "ipython",
    "version": 3
   },
   "file_extension": ".py",
   "mimetype": "text/x-python",
   "name": "python",
   "nbconvert_exporter": "python",
   "pygments_lexer": "ipython3",
   "version": "3.7.0"
  }
 },
 "nbformat": 4,
 "nbformat_minor": 2
}
